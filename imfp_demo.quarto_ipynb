{
  "cells": [
    {
      "cell_type": "markdown",
      "metadata": {},
      "source": [
        "---\n",
        "title: \"imfp demo\"\n",
        "---\n",
        "\n",
        "\n",
        "\n",
        "\n",
        "\n",
        "# imfp demo\n",
        "This data analysis project aims to explore the relationship between economic growth and gender equality using `imfp`, which allows us to download data from IMF (International Monetary Fund).\n",
        "\n",
        "In this project, we explored the following:\n",
        "\n",
        "1. **Data Fetching**\n",
        "* Make API call to fetch 4 datasets: GII (Gender Inequality Index), Nominal GDP, GDP Deflator Index, Population series\n",
        "\n",
        "2. **Feature Engineering**\n",
        "* Cleaning: Convert GDP Deflator Index to a yearly basis and variables to numeric\n",
        "* Dependent Variable: Percent Change of Gender Inequality Index\n",
        "* Independent Variable: Percent Change of Real GDP per Capita \n",
        "* Transform variables to display magnitude of change \n",
        "* Merge the datasets\n",
        "\n",
        "3. **Data Visualization**\n",
        "* Scatterplot\n",
        "* Time Series Line Plots\n",
        "* Barplot\n",
        "* Boxplot\n",
        "* Heatmap\n",
        "\n",
        "4. **Statistical Analysis**\n",
        "* Descriptive Statistics\n",
        "* Regression Analysis\n",
        "* Time Series Analysis\n",
        "\n",
        "Ready for some insights about if a stronger economy mean more equal opportunities for all genders? Let’s dive in!\n",
        "\n",
        "## Suggested packages\n",
        "`imfp` can be integrated with other python tools to streamline the computational process.\n",
        "\n",
        "`pandas`: view and manipulate data frame\n",
        "`matplotlib.pyplot`: make plots\n",
        "`seaborn`: make plots\n",
        "`numpy`: computation\n",
        "`LinearRegression`: implement linear regression\n",
        "`tabulate`: format data into tables\n",
        "\n",
        "utils is a a custom module that contains helper functions, reusable code, or general-purpose tools that simplify certain tasks. `load_or_fetch_databases`, `load_or_fetch_parameters` `load_or_fetch_dataset` are used to load and retreive database, parameters, and dataset from a local or remote source. `view_dataframe_in_browser` displays dataframe in a web browser.\n",
        "\n",
        "`statsmodels.api`, `adfuller`, `ARIMA`,`VAR`,`plot_acf`,`plot_pacf`,`mean_absolute_error`,`mean_squared_error`, and`grangercausalitytests` are specifically used for time series analysis. \n"
      ],
      "id": "6c95637f"
    },
    {
      "cell_type": "code",
      "metadata": {},
      "source": [
        "import pandas as pd\n",
        "from utils import load_or_fetch_databases, view_dataframe_in_browser\n",
        "from utils import load_or_fetch_parameters\n",
        "from utils import load_or_fetch_dataset\n",
        "import matplotlib.pyplot as plt\n",
        "import seaborn as sns\n",
        "import numpy as np\n",
        "from sklearn.linear_model import LinearRegression\n",
        "from tabulate import tabulate\n",
        "import statsmodels.api as sm\n",
        "from statsmodels.tsa.stattools import adfuller\n",
        "from statsmodels.tsa.arima.model import ARIMA\n",
        "from statsmodels.tsa.vector_ar.var_model import VAR\n",
        "from statsmodels.graphics.tsaplots import plot_acf, plot_pacf\n",
        "from sklearn.metrics import mean_absolute_error\n",
        "from sklearn.metrics import mean_squared_error\n",
        "from statsmodels.tsa.stattools import grangercausalitytests"
      ],
      "id": "53b15ef5",
      "execution_count": null,
      "outputs": []
    },
    {
      "cell_type": "markdown",
      "metadata": {},
      "source": [
        "## Data Fetching\n"
      ],
      "id": "fb369804"
    },
    {
      "cell_type": "code",
      "metadata": {},
      "source": [
        "# Load or fetch databases\n",
        "databases = load_or_fetch_databases()\n",
        "\n",
        "# Filter out databases that contain a year in the description\n",
        "databases[\n",
        "  ~databases['description'].str.contains(r\"[\\d]{4}\", regex=True)\n",
        "]\n",
        "\n",
        "# view_dataframe_in_browser(databases)"
      ],
      "id": "b837d8e2",
      "execution_count": null,
      "outputs": []
    },
    {
      "cell_type": "code",
      "metadata": {},
      "source": [
        "datasets = [\"GENDER_EQUALITY\", \"IFS\"]\n",
        "params = {}\n",
        "\n",
        "# Fetch valid parameters for two datasets\n",
        "for dataset in datasets:\n",
        "    params[dataset] = load_or_fetch_parameters(dataset)\n",
        "\n",
        "    valid_keys = list(params[dataset].keys())\n",
        "    print(f\"Parameters for {dataset}: \", valid_keys)\n",
        "\n",
        "# view_dataframe_in_browser(params.get(\"IFS\").get(\"indicator\"))"
      ],
      "id": "1b358f02",
      "execution_count": null,
      "outputs": []
    },
    {
      "cell_type": "code",
      "metadata": {},
      "source": [
        "datasets = {}\n",
        "dsets = [(\"GENDER_EQUALITY\", \"GE_GII\"), (\"IFS\", \"NGDP_D_SA_IX\"), (\"IFS\", \"NGDP_XDC\"), (\"IFS\", \"LP_PE_NUM\")]\n",
        "\n",
        "for dset in dsets:\n",
        "    datasets[dset[0] + \".\" + dset[1]] = load_or_fetch_dataset(dset[0], dset[1])"
      ],
      "id": "59b2dd78",
      "execution_count": null,
      "outputs": []
    },
    {
      "cell_type": "code",
      "metadata": {},
      "source": [
        "# \"Gender Inequality Index\"\n",
        "GII = \"GENDER_EQUALITY.GE_GII\"\n",
        "\n",
        "# \"Gross Domestic Product, Deflator, Seasonally Adjusted, Index\"\n",
        "GDP_deflator = \"IFS.NGDP_D_SA_IX\"\n",
        "\n",
        "# \"Gross Domestic Product, Nominal, Domestic Currency\"\n",
        "GDP_nominal = \"IFS.NGDP_XDC\"\n",
        "\n",
        "# \"Population, Persons, Number of\"\n",
        "GDP_population = \"IFS.LP_PE_NUM\"\n",
        "\n",
        "# Assign the datasets to new variables so we don't change the originals\n",
        "GII_data = datasets[GII]\n",
        "GDP_deflator_data = datasets[GDP_deflator]\n",
        "GDP_nominal_data = datasets[GDP_nominal]\n",
        "GDP_population_data = datasets[GDP_population]"
      ],
      "id": "f7eaee43",
      "execution_count": null,
      "outputs": []
    }
  ],
  "metadata": {
    "kernelspec": {
      "name": "python3",
      "language": "python",
      "display_name": "Python 3 (ipykernel)",
      "path": "/Users/sammi/Library/Caches/pypoetry/virtualenvs/imfp-0AlIckOY-py3.13/share/jupyter/kernels/python3"
    }
  },
  "nbformat": 4,
  "nbformat_minor": 5
}