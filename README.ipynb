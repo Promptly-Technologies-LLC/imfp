{
 "cells": [
  {
   "attachments": {},
   "cell_type": "markdown",
   "metadata": {},
   "source": [
    "# imfp\n",
    "\n",
    "[![Tests](https://github.com/chriscarrollsmith/imfp/actions/workflows/main.yml/badge.svg)](https://github.com/chriscarrollsmith/imfp/actions/workflows/main.yml)\n",
    "[![PyPI Version](https://img.shields.io/pypi/v/imfp.svg)](https://pypi.python.org/pypi/imfp)\n",
    "[![Code style: black](https://img.shields.io/badge/code%20style-black-000000.svg)](https://github.com/psf/black)\n",
    "\n",
    "`imfp`, by Christopher C. Smith, is a Python package for downloading data from the [International Monetary\n",
    "Fund's](http://data.imf.org/) [RESTful JSON\n",
    "API](http://datahelp.imf.org/knowledgebase/articles/667681-using-json-restful-web-service).\n",
    "\n",
    "## Installation\n",
    "\n",
    "To install the stable version of imfp from PyPi, use pip."
   ]
  },
  {
   "cell_type": "code",
   "execution_count": null,
   "metadata": {},
   "outputs": [],
   "source": [
    "pip install -q --upgrade imfp"
   ]
  },
  {
   "attachments": {},
   "cell_type": "markdown",
   "metadata": {},
   "source": [
    "To load the library, use `import`:"
   ]
  },
  {
   "cell_type": "code",
   "execution_count": 4,
   "metadata": {},
   "outputs": [],
   "source": [
    "import imfp"
   ]
  },
  {
   "attachments": {},
   "cell_type": "markdown",
   "metadata": {},
   "source": [
    "\n",
    "## Usage\n",
    "\n",
    "### Suggested packages\n",
    "\n",
    "`imfp` outputs data in a `pandas` data frame, so you will want to use the `pandas` package for its functions for viewing and manipulating this object type. I also recommend `matplotlib` or `seaborn` for making plots, and `numpy` for computation. These packages can be installed using `pip` and loaded using `import`:"
   ]
  },
  {
   "cell_type": "code",
   "execution_count": 5,
   "metadata": {},
   "outputs": [],
   "source": [
    "import seaborn"
   ]
  },
  {
   "attachments": {},
   "cell_type": "markdown",
   "metadata": {},
   "source": [
    "\n",
    "### Fetching an Index of Databases with the `imf_databases` Function\n",
    "\n",
    "The `imfp` package introduces four core functions: `imfp.imf_databases`, `imfp.imf_parameters`, `imfp.imf_parameter_defs`, and `imfp.imf_dataset`. The function for downloading datasets is `imfp.imf_dataset`, but you will need the other functions to determine what arguments to supply to `imfp.imf_dataset`. For instance, all calls to `imfp.imf_dataset` require a `database_id`. This is because the IMF serves many different databases through its API, and the API needs to know which of these many databases you're requesting data from. To obtain a list of databases, use `imfp.imf_databases`, like so:"
   ]
  },
  {
   "cell_type": "code",
   "execution_count": 7,
   "metadata": {},
   "outputs": [
    {
     "data": {
      "text/html": [
       "<div>\n",
       "<style scoped>\n",
       "    .dataframe tbody tr th:only-of-type {\n",
       "        vertical-align: middle;\n",
       "    }\n",
       "\n",
       "    .dataframe tbody tr th {\n",
       "        vertical-align: top;\n",
       "    }\n",
       "\n",
       "    .dataframe thead th {\n",
       "        text-align: right;\n",
       "    }\n",
       "</style>\n",
       "<table border=\"1\" class=\"dataframe\">\n",
       "  <thead>\n",
       "    <tr style=\"text-align: right;\">\n",
       "      <th></th>\n",
       "      <th>database_id</th>\n",
       "      <th>description</th>\n",
       "    </tr>\n",
       "  </thead>\n",
       "  <tbody>\n",
       "    <tr>\n",
       "      <th>0</th>\n",
       "      <td>BOP_2017M06</td>\n",
       "      <td>Balance of Payments (BOP), 2017 M06</td>\n",
       "    </tr>\n",
       "    <tr>\n",
       "      <th>1</th>\n",
       "      <td>BOP_2020M3</td>\n",
       "      <td>Balance of Payments (BOP), 2020 M03</td>\n",
       "    </tr>\n",
       "    <tr>\n",
       "      <th>2</th>\n",
       "      <td>BOP_2017M11</td>\n",
       "      <td>Balance of Payments (BOP), 2017 M11</td>\n",
       "    </tr>\n",
       "    <tr>\n",
       "      <th>3</th>\n",
       "      <td>DOT_2020Q1</td>\n",
       "      <td>Direction of Trade Statistics (DOTS), 2020 Q1</td>\n",
       "    </tr>\n",
       "    <tr>\n",
       "      <th>4</th>\n",
       "      <td>GFSMAB2016</td>\n",
       "      <td>Government Finance Statistics Yearbook (GFSY 2...</td>\n",
       "    </tr>\n",
       "  </tbody>\n",
       "</table>\n",
       "</div>"
      ],
      "text/plain": [
       "   database_id                                        description\n",
       "0  BOP_2017M06                Balance of Payments (BOP), 2017 M06\n",
       "1   BOP_2020M3                Balance of Payments (BOP), 2020 M03\n",
       "2  BOP_2017M11                Balance of Payments (BOP), 2017 M11\n",
       "3   DOT_2020Q1      Direction of Trade Statistics (DOTS), 2020 Q1\n",
       "4   GFSMAB2016  Government Finance Statistics Yearbook (GFSY 2..."
      ]
     },
     "execution_count": 7,
     "metadata": {},
     "output_type": "execute_result"
    }
   ],
   "source": [
    "#Fetch the list of databases available through the IMF API\n",
    "databases = imfp.imf_databases()\n",
    "databases.head()"
   ]
  },
  {
   "attachments": {},
   "cell_type": "markdown",
   "metadata": {},
   "source": [
    "This function returns the IMF’s listing of 259 databases available through the API. (In reality, 8 of the listed databases are defunct and not actually available: FAS_2015, GFS01, FM202010, APDREO202010, AFRREO202010, WHDREO202010, BOPAGG_2020, DOT_2020Q1.)\n",
    "\n",
    "To view and explore the database list, it’s possible to explore subsets of the data frame by row number with `databases.loc`:"
   ]
  },
  {
   "cell_type": "code",
   "execution_count": 8,
   "metadata": {},
   "outputs": [
    {
     "data": {
      "text/html": [
       "<div>\n",
       "<style scoped>\n",
       "    .dataframe tbody tr th:only-of-type {\n",
       "        vertical-align: middle;\n",
       "    }\n",
       "\n",
       "    .dataframe tbody tr th {\n",
       "        vertical-align: top;\n",
       "    }\n",
       "\n",
       "    .dataframe thead th {\n",
       "        text-align: right;\n",
       "    }\n",
       "</style>\n",
       "<table border=\"1\" class=\"dataframe\">\n",
       "  <thead>\n",
       "    <tr style=\"text-align: right;\">\n",
       "      <th></th>\n",
       "      <th>database_id</th>\n",
       "      <th>description</th>\n",
       "    </tr>\n",
       "  </thead>\n",
       "  <tbody>\n",
       "    <tr>\n",
       "      <th>5</th>\n",
       "      <td>BOP_2019M12</td>\n",
       "      <td>Balance of Payments (BOP), 2019 M12</td>\n",
       "    </tr>\n",
       "    <tr>\n",
       "      <th>6</th>\n",
       "      <td>GFSYFALCS2014</td>\n",
       "      <td>Government Finance Statistics Yearbook (GFSY 2...</td>\n",
       "    </tr>\n",
       "    <tr>\n",
       "      <th>7</th>\n",
       "      <td>GFSE2016</td>\n",
       "      <td>Government Finance Statistics Yearbook (GFSY 2...</td>\n",
       "    </tr>\n",
       "    <tr>\n",
       "      <th>8</th>\n",
       "      <td>FM201510</td>\n",
       "      <td>Fiscal Monitor (FM) October 2015</td>\n",
       "    </tr>\n",
       "    <tr>\n",
       "      <th>9</th>\n",
       "      <td>GFSIBS2016</td>\n",
       "      <td>Government Finance Statistics Yearbook (GFSY 2...</td>\n",
       "    </tr>\n",
       "  </tbody>\n",
       "</table>\n",
       "</div>"
      ],
      "text/plain": [
       "     database_id                                        description\n",
       "5    BOP_2019M12                Balance of Payments (BOP), 2019 M12\n",
       "6  GFSYFALCS2014  Government Finance Statistics Yearbook (GFSY 2...\n",
       "7       GFSE2016  Government Finance Statistics Yearbook (GFSY 2...\n",
       "8       FM201510                   Fiscal Monitor (FM) October 2015\n",
       "9     GFSIBS2016  Government Finance Statistics Yearbook (GFSY 2..."
      ]
     },
     "execution_count": 8,
     "metadata": {},
     "output_type": "execute_result"
    }
   ],
   "source": [
    "# View a subset consisting of rows 5 through 9\n",
    "databases.loc[5:9]"
   ]
  },
  {
   "attachments": {},
   "cell_type": "markdown",
   "metadata": {},
   "source": [
    "\n",
    " Or, if you already know which database you want, you can fetch the corresponding code by searching for a string match using `str.contains` and subsetting the data frame for matching rows. For instance, here’s how to search for the Primary Commodity Price System:"
   ]
  },
  {
   "cell_type": "code",
   "execution_count": 9,
   "metadata": {},
   "outputs": [
    {
     "data": {
      "text/html": [
       "<div>\n",
       "<style scoped>\n",
       "    .dataframe tbody tr th:only-of-type {\n",
       "        vertical-align: middle;\n",
       "    }\n",
       "\n",
       "    .dataframe tbody tr th {\n",
       "        vertical-align: top;\n",
       "    }\n",
       "\n",
       "    .dataframe thead th {\n",
       "        text-align: right;\n",
       "    }\n",
       "</style>\n",
       "<table border=\"1\" class=\"dataframe\">\n",
       "  <thead>\n",
       "    <tr style=\"text-align: right;\">\n",
       "      <th></th>\n",
       "      <th>database_id</th>\n",
       "      <th>description</th>\n",
       "    </tr>\n",
       "  </thead>\n",
       "  <tbody>\n",
       "    <tr>\n",
       "      <th>237</th>\n",
       "      <td>PCTOT</td>\n",
       "      <td>Commodity Terms of Trade</td>\n",
       "    </tr>\n",
       "    <tr>\n",
       "      <th>239</th>\n",
       "      <td>PCPS</td>\n",
       "      <td>Primary Commodity Price System (PCPS)</td>\n",
       "    </tr>\n",
       "  </tbody>\n",
       "</table>\n",
       "</div>"
      ],
      "text/plain": [
       "    database_id                            description\n",
       "237       PCTOT               Commodity Terms of Trade\n",
       "239        PCPS  Primary Commodity Price System (PCPS)"
      ]
     },
     "execution_count": 9,
     "metadata": {},
     "output_type": "execute_result"
    }
   ],
   "source": [
    "databases[databases['description'].str.contains(\"Commodity\")]"
   ]
  },
  {
   "attachments": {},
   "cell_type": "markdown",
   "metadata": {},
   "source": [
    "### Fetching a List of Parameters and Input Codes with `imf_parameters` and `imf_parameter_defs`\n",
    "\n",
    "Once you have a `database_id`, it’s possible to make a call to `imfp.imf_dataset` to fetch the entire database: `imfp.imf_dataset(database_id)`. However, while this will succeed for a few small databases, it will fail for all of the larger ones. And even in the rare case when it succeeds, fetching an entire database can take a long time. You’re much better off supplying additional filter parameters to reduce the size of your request.\n",
    "\n",
    "Requests to databases available through the IMF API are complicated by the fact that each database uses a different set of parameters when making a request. (At last count, there were 43 unique parameters used in making API requests from the various databases!) You also have to have the list of valid input codes for each parameter. The `imfp.imf_parameters` function solves this problem. Use the function to obtain the full list of parameters and valid input codes for a given database:"
   ]
  },
  {
   "cell_type": "code",
   "execution_count": 10,
   "metadata": {},
   "outputs": [],
   "source": [
    "# Fetch list of valid parameters and input codes for commodity price database\n",
    "params = imfp.imf_parameters(\"PCPS\")"
   ]
  },
  {
   "attachments": {},
   "cell_type": "markdown",
   "metadata": {},
   "source": [
    "The `imfp.imf_parameters` function returns a dictionary of data frames. Each dictionary key name corresponds to a parameter used in making requests from the database:"
   ]
  },
  {
   "cell_type": "code",
   "execution_count": 11,
   "metadata": {},
   "outputs": [
    {
     "data": {
      "text/plain": [
       "dict_keys(['freq', 'ref_area', 'commodity', 'unit_measure'])"
      ]
     },
     "execution_count": 11,
     "metadata": {},
     "output_type": "execute_result"
    }
   ],
   "source": [
    "# Get key names from the params object\n",
    "params.keys()"
   ]
  },
  {
   "attachments": {},
   "cell_type": "markdown",
   "metadata": {},
   "source": [
    "In the event that a parameter name is not self-explanatory, the `imfp.imf_parameter_defs` function can be used to fetch short text descriptions of each parameter:"
   ]
  },
  {
   "cell_type": "code",
   "execution_count": 12,
   "metadata": {},
   "outputs": [
    {
     "data": {
      "text/html": [
       "<div>\n",
       "<style scoped>\n",
       "    .dataframe tbody tr th:only-of-type {\n",
       "        vertical-align: middle;\n",
       "    }\n",
       "\n",
       "    .dataframe tbody tr th {\n",
       "        vertical-align: top;\n",
       "    }\n",
       "\n",
       "    .dataframe thead th {\n",
       "        text-align: right;\n",
       "    }\n",
       "</style>\n",
       "<table border=\"1\" class=\"dataframe\">\n",
       "  <thead>\n",
       "    <tr style=\"text-align: right;\">\n",
       "      <th></th>\n",
       "      <th>parameter</th>\n",
       "      <th>description</th>\n",
       "    </tr>\n",
       "  </thead>\n",
       "  <tbody>\n",
       "    <tr>\n",
       "      <th>0</th>\n",
       "      <td>freq</td>\n",
       "      <td>Frequency</td>\n",
       "    </tr>\n",
       "    <tr>\n",
       "      <th>1</th>\n",
       "      <td>ref_area</td>\n",
       "      <td>Geographical Areas</td>\n",
       "    </tr>\n",
       "    <tr>\n",
       "      <th>2</th>\n",
       "      <td>commodity</td>\n",
       "      <td>Indicator</td>\n",
       "    </tr>\n",
       "    <tr>\n",
       "      <th>3</th>\n",
       "      <td>unit_measure</td>\n",
       "      <td>Unit</td>\n",
       "    </tr>\n",
       "  </tbody>\n",
       "</table>\n",
       "</div>"
      ],
      "text/plain": [
       "      parameter         description\n",
       "0          freq           Frequency\n",
       "1      ref_area  Geographical Areas\n",
       "2     commodity           Indicator\n",
       "3  unit_measure                Unit"
      ]
     },
     "execution_count": 12,
     "metadata": {},
     "output_type": "execute_result"
    }
   ],
   "source": [
    "# Fetch and display parameter text descriptions for the commodity price database\n",
    "imfp.imf_parameter_defs(\"PCPS\")"
   ]
  },
  {
   "attachments": {},
   "cell_type": "markdown",
   "metadata": {},
   "source": [
    "Each named list item is a data frame containing a vector of valid input codes that can be used with the named parameter, and a vector of text descriptions of what each code represents.\n",
    "\n",
    "To access the data frame containing valid values for each parameter, subset the `params` dict by the parameter name:"
   ]
  },
  {
   "cell_type": "code",
   "execution_count": 13,
   "metadata": {},
   "outputs": [
    {
     "data": {
      "text/html": [
       "<div>\n",
       "<style scoped>\n",
       "    .dataframe tbody tr th:only-of-type {\n",
       "        vertical-align: middle;\n",
       "    }\n",
       "\n",
       "    .dataframe tbody tr th {\n",
       "        vertical-align: top;\n",
       "    }\n",
       "\n",
       "    .dataframe thead th {\n",
       "        text-align: right;\n",
       "    }\n",
       "</style>\n",
       "<table border=\"1\" class=\"dataframe\">\n",
       "  <thead>\n",
       "    <tr style=\"text-align: right;\">\n",
       "      <th></th>\n",
       "      <th>input_code</th>\n",
       "      <th>description</th>\n",
       "    </tr>\n",
       "  </thead>\n",
       "  <tbody>\n",
       "    <tr>\n",
       "      <th>0</th>\n",
       "      <td>A</td>\n",
       "      <td>Annual</td>\n",
       "    </tr>\n",
       "    <tr>\n",
       "      <th>1</th>\n",
       "      <td>M</td>\n",
       "      <td>Monthly</td>\n",
       "    </tr>\n",
       "    <tr>\n",
       "      <th>2</th>\n",
       "      <td>Q</td>\n",
       "      <td>Quarterly</td>\n",
       "    </tr>\n",
       "  </tbody>\n",
       "</table>\n",
       "</div>"
      ],
      "text/plain": [
       "  input_code description\n",
       "0          A      Annual\n",
       "1          M     Monthly\n",
       "2          Q   Quarterly"
      ]
     },
     "execution_count": 13,
     "metadata": {},
     "output_type": "execute_result"
    }
   ],
   "source": [
    "# View the data frame of valid input codes for the frequency parameter\n",
    "params['freq']"
   ]
  },
  {
   "attachments": {},
   "cell_type": "markdown",
   "metadata": {},
   "source": [
    "### Viewing Data Frames\n",
    "\n",
    "Note that `pandas` data frames in Python can be a little difficult to work with, because Python doesn't have a built-in variable explorer. If you're doing data science, I recommend using an IDE like RStudio or Spyder that has a built-in variable explorer. However, if you don't have a variable explorer, you can prevent Python from truncating data frames using the `options` in `pandas`. For instance, to increase the maximum allowed column width to 100 characters, we can use `pandas.options.display.max_colwidth = 100`."
   ]
  },
  {
   "attachments": {},
   "cell_type": "markdown",
   "metadata": {},
   "source": [
    "Alternatively, it's possible to open the data frame in a new window to view it in full:"
   ]
  },
  {
   "cell_type": "code",
   "execution_count": 14,
   "metadata": {},
   "outputs": [],
   "source": [
    "import imfp\n",
    "import tempfile\n",
    "import webbrowser\n",
    "\n",
    "# Define a simple function to view data frame in a browser window\n",
    "def View(df):\n",
    "    html = df.to_html()\n",
    "    with tempfile.NamedTemporaryFile('w', delete=False, suffix='.html') as f:\n",
    "        url = 'file://' + f.name\n",
    "        f.write(html)\n",
    "    webbrowser.open(url)\n",
    "\n",
    "# Open data frame in a new browser window using the function\n",
    "df = imfp.imf_databases()\n",
    "View(df)"
   ]
  },
  {
   "attachments": {},
   "cell_type": "markdown",
   "metadata": {},
   "source": [
    "### Supplying Parameter Arguments to `imf_dataset`: A Tale of Two Workflows\n",
    "\n",
    "There are two ways to supply parameters to `imfp.imf_dataset`: by supplying list arguments or by supplying a modified parameters dict. The list arguments workflow will be more intuitive for most users, but the dict argument workflow requires a little less code.\n",
    "\n",
    "#### The List Arguments Workflow\n",
    "\n",
    "To supply list arguments, just find the codes you want and supply them to `imfp.imf_dataset` using the parameter name as the argument name. The example below shows how to request 2000–2015 annual coal prices from the Primary Commodity Price System database:"
   ]
  },
  {
   "cell_type": "code",
   "execution_count": 15,
   "metadata": {},
   "outputs": [
    {
     "data": {
      "text/html": [
       "<div>\n",
       "<style scoped>\n",
       "    .dataframe tbody tr th:only-of-type {\n",
       "        vertical-align: middle;\n",
       "    }\n",
       "\n",
       "    .dataframe tbody tr th {\n",
       "        vertical-align: top;\n",
       "    }\n",
       "\n",
       "    .dataframe thead th {\n",
       "        text-align: right;\n",
       "    }\n",
       "</style>\n",
       "<table border=\"1\" class=\"dataframe\">\n",
       "  <thead>\n",
       "    <tr style=\"text-align: right;\">\n",
       "      <th></th>\n",
       "      <th>freq</th>\n",
       "      <th>ref_area</th>\n",
       "      <th>commodity</th>\n",
       "      <th>unit_measure</th>\n",
       "      <th>unit_mult</th>\n",
       "      <th>time_format</th>\n",
       "      <th>time_period</th>\n",
       "      <th>obs_value</th>\n",
       "    </tr>\n",
       "  </thead>\n",
       "  <tbody>\n",
       "    <tr>\n",
       "      <th>0</th>\n",
       "      <td>A</td>\n",
       "      <td>W00</td>\n",
       "      <td>PCOAL</td>\n",
       "      <td>IX</td>\n",
       "      <td>0</td>\n",
       "      <td>P1Y</td>\n",
       "      <td>2000</td>\n",
       "      <td>39.3510230293202</td>\n",
       "    </tr>\n",
       "    <tr>\n",
       "      <th>1</th>\n",
       "      <td>A</td>\n",
       "      <td>W00</td>\n",
       "      <td>PCOAL</td>\n",
       "      <td>IX</td>\n",
       "      <td>0</td>\n",
       "      <td>P1Y</td>\n",
       "      <td>2001</td>\n",
       "      <td>49.3378587284039</td>\n",
       "    </tr>\n",
       "    <tr>\n",
       "      <th>2</th>\n",
       "      <td>A</td>\n",
       "      <td>W00</td>\n",
       "      <td>PCOAL</td>\n",
       "      <td>IX</td>\n",
       "      <td>0</td>\n",
       "      <td>P1Y</td>\n",
       "      <td>2002</td>\n",
       "      <td>39.4949091648006</td>\n",
       "    </tr>\n",
       "    <tr>\n",
       "      <th>3</th>\n",
       "      <td>A</td>\n",
       "      <td>W00</td>\n",
       "      <td>PCOAL</td>\n",
       "      <td>IX</td>\n",
       "      <td>0</td>\n",
       "      <td>P1Y</td>\n",
       "      <td>2003</td>\n",
       "      <td>43.2878876950788</td>\n",
       "    </tr>\n",
       "    <tr>\n",
       "      <th>4</th>\n",
       "      <td>A</td>\n",
       "      <td>W00</td>\n",
       "      <td>PCOAL</td>\n",
       "      <td>IX</td>\n",
       "      <td>0</td>\n",
       "      <td>P1Y</td>\n",
       "      <td>2004</td>\n",
       "      <td>82.9185858052862</td>\n",
       "    </tr>\n",
       "  </tbody>\n",
       "</table>\n",
       "</div>"
      ],
      "text/plain": [
       "  freq ref_area commodity unit_measure unit_mult time_format time_period  \\\n",
       "0    A      W00     PCOAL           IX         0         P1Y        2000   \n",
       "1    A      W00     PCOAL           IX         0         P1Y        2001   \n",
       "2    A      W00     PCOAL           IX         0         P1Y        2002   \n",
       "3    A      W00     PCOAL           IX         0         P1Y        2003   \n",
       "4    A      W00     PCOAL           IX         0         P1Y        2004   \n",
       "\n",
       "          obs_value  \n",
       "0  39.3510230293202  \n",
       "1  49.3378587284039  \n",
       "2  39.4949091648006  \n",
       "3  43.2878876950788  \n",
       "4  82.9185858052862  "
      ]
     },
     "execution_count": 15,
     "metadata": {},
     "output_type": "execute_result"
    }
   ],
   "source": [
    "# Fetch the 'freq' input code for annual frequency\n",
    "selected_freq = list(\n",
    "    params['freq']['input_code'][params['freq']['description'].str.contains(\"Annual\")]\n",
    ")\n",
    "\n",
    "# Fetch the 'commodity' input code for coal\n",
    "selected_commodity = list(\n",
    "    params['commodity']['input_code'][params['commodity']['description'].str.contains(\"Coal\")]\n",
    ")\n",
    "\n",
    "# Fetch the 'unit_measure' input code for index\n",
    "selected_unit_measure = list(\n",
    "    params['unit_measure']['input_code'][params['unit_measure']['description'].str.contains(\"Index\")]\n",
    ")\n",
    "\n",
    "# Request data from the API\n",
    "df = imfp.imf_dataset(database_id = \"PCPS\",\n",
    "         freq = selected_freq, commodity = selected_commodity,\n",
    "         unit_measure = selected_unit_measure,\n",
    "         start_year = 2000, end_year = 2015)\n",
    "\n",
    "# Display the first few entries in the retrieved data frame\n",
    "df.head()"
   ]
  },
  {
   "attachments": {},
   "cell_type": "markdown",
   "metadata": {},
   "source": [
    "#### The Parameters Argument Workflow\n",
    "\n",
    "To supply a list object, modify each data frame in the `params` list object to retain only the rows you want, and then supply the modified list object to `imfp.imf_dataset` as its parameters argument. Here is how to make the same request for annual coal price data using a parameters list:"
   ]
  },
  {
   "cell_type": "code",
   "execution_count": 16,
   "metadata": {},
   "outputs": [
    {
     "data": {
      "text/html": [
       "<div>\n",
       "<style scoped>\n",
       "    .dataframe tbody tr th:only-of-type {\n",
       "        vertical-align: middle;\n",
       "    }\n",
       "\n",
       "    .dataframe tbody tr th {\n",
       "        vertical-align: top;\n",
       "    }\n",
       "\n",
       "    .dataframe thead th {\n",
       "        text-align: right;\n",
       "    }\n",
       "</style>\n",
       "<table border=\"1\" class=\"dataframe\">\n",
       "  <thead>\n",
       "    <tr style=\"text-align: right;\">\n",
       "      <th></th>\n",
       "      <th>freq</th>\n",
       "      <th>ref_area</th>\n",
       "      <th>commodity</th>\n",
       "      <th>unit_measure</th>\n",
       "      <th>unit_mult</th>\n",
       "      <th>time_format</th>\n",
       "      <th>time_period</th>\n",
       "      <th>obs_value</th>\n",
       "    </tr>\n",
       "  </thead>\n",
       "  <tbody>\n",
       "    <tr>\n",
       "      <th>0</th>\n",
       "      <td>A</td>\n",
       "      <td>W00</td>\n",
       "      <td>PCOAL</td>\n",
       "      <td>IX</td>\n",
       "      <td>0</td>\n",
       "      <td>P1Y</td>\n",
       "      <td>2000</td>\n",
       "      <td>39.3510230293202</td>\n",
       "    </tr>\n",
       "    <tr>\n",
       "      <th>1</th>\n",
       "      <td>A</td>\n",
       "      <td>W00</td>\n",
       "      <td>PCOAL</td>\n",
       "      <td>IX</td>\n",
       "      <td>0</td>\n",
       "      <td>P1Y</td>\n",
       "      <td>2001</td>\n",
       "      <td>49.3378587284039</td>\n",
       "    </tr>\n",
       "    <tr>\n",
       "      <th>2</th>\n",
       "      <td>A</td>\n",
       "      <td>W00</td>\n",
       "      <td>PCOAL</td>\n",
       "      <td>IX</td>\n",
       "      <td>0</td>\n",
       "      <td>P1Y</td>\n",
       "      <td>2002</td>\n",
       "      <td>39.4949091648006</td>\n",
       "    </tr>\n",
       "    <tr>\n",
       "      <th>3</th>\n",
       "      <td>A</td>\n",
       "      <td>W00</td>\n",
       "      <td>PCOAL</td>\n",
       "      <td>IX</td>\n",
       "      <td>0</td>\n",
       "      <td>P1Y</td>\n",
       "      <td>2003</td>\n",
       "      <td>43.2878876950788</td>\n",
       "    </tr>\n",
       "    <tr>\n",
       "      <th>4</th>\n",
       "      <td>A</td>\n",
       "      <td>W00</td>\n",
       "      <td>PCOAL</td>\n",
       "      <td>IX</td>\n",
       "      <td>0</td>\n",
       "      <td>P1Y</td>\n",
       "      <td>2004</td>\n",
       "      <td>82.9185858052862</td>\n",
       "    </tr>\n",
       "  </tbody>\n",
       "</table>\n",
       "</div>"
      ],
      "text/plain": [
       "  freq ref_area commodity unit_measure unit_mult time_format time_period  \\\n",
       "0    A      W00     PCOAL           IX         0         P1Y        2000   \n",
       "1    A      W00     PCOAL           IX         0         P1Y        2001   \n",
       "2    A      W00     PCOAL           IX         0         P1Y        2002   \n",
       "3    A      W00     PCOAL           IX         0         P1Y        2003   \n",
       "4    A      W00     PCOAL           IX         0         P1Y        2004   \n",
       "\n",
       "          obs_value  \n",
       "0  39.3510230293202  \n",
       "1  49.3378587284039  \n",
       "2  39.4949091648006  \n",
       "3  43.2878876950788  \n",
       "4  82.9185858052862  "
      ]
     },
     "execution_count": 16,
     "metadata": {},
     "output_type": "execute_result"
    }
   ],
   "source": [
    "# Fetch the 'freq' input code for annual frequency\n",
    "params['freq'] = params['freq'][params['freq']['description'].str.contains(\"Annual\")]\n",
    "\n",
    "# Fetch the 'commodity' input code(s) for coal\n",
    "params['commodity'] = params['commodity'][params['commodity']['description'].str.contains(\"Coal\")]\n",
    "\n",
    "# Fetch the 'unit_measure' input code for index\n",
    "params['unit_measure'] = params['unit_measure'][params['unit_measure']['description'].str.contains(\"Index\")]\n",
    "\n",
    "# Request data from the API\n",
    "df = imfp.imf_dataset(database_id = \"PCPS\",\n",
    "         parameters = params,\n",
    "         start_year = 2000, end_year = 2015)\n",
    "\n",
    "# Display the first few entries in the retrieved data frame\n",
    "df.head()"
   ]
  },
  {
   "attachments": {},
   "cell_type": "markdown",
   "metadata": {},
   "source": [
    "## Working with the Returned Data Frame\n",
    "\n",
    "Note that all columns in the returned data frame are character vectors, and that to plot the series we will need to convert to valid numeric or date formats. Using `seaborn` with `hue`, we can plot different indicators in different colors:"
   ]
  },
  {
   "cell_type": "code",
   "execution_count": 17,
   "metadata": {},
   "outputs": [
    {
     "data": {
      "image/png": "[encoded data removed]",
      "text/plain": [
       "<Figure size 640x480 with 1 Axes>"
      ]
     },
     "metadata": {},
     "output_type": "display_data"
    }
   ],
   "source": [
    "# Convert obs_value to numeric and time_period to integer year\n",
    "df = df.astype({\"time_period\" : int, \"obs_value\" : float})\n",
    "\n",
    "# Plot prices of different commodities in different colors with seaborn\n",
    "seaborn.lineplot(data=df, x='time_period', y='obs_value', hue='commodity');"
   ]
  },
  {
   "attachments": {},
   "cell_type": "markdown",
   "metadata": {},
   "source": [
    "\n",
    "Also note that the returned data frame has mysterious-looking codes as values in some columns.\n",
    "\n",
    "Codes in the `time_format` column are ISO 8601 duration codes. In this case, “P1Y” means “periods of 1 year.” The `unit_mult` column represents the number of zeroes you should add to the value column. For instance, if value is in millions, then the unit multiplier will be 6. If in billions, then the unit multiplier will be 9.\n",
    "\n",
    "The meanings of the other codes are stored in our `params` object and can be fetched with a join. For instance to fetch the meaning of the `ref_area` code “W00”, we can perform a left join with the `params['ref_area']` data frame and use select to replace `ref_area` with the parameter description:"
   ]
  },
  {
   "cell_type": "code",
   "execution_count": 18,
   "metadata": {},
   "outputs": [
    {
     "data": {
      "text/html": [
       "<div>\n",
       "<style scoped>\n",
       "    .dataframe tbody tr th:only-of-type {\n",
       "        vertical-align: middle;\n",
       "    }\n",
       "\n",
       "    .dataframe tbody tr th {\n",
       "        vertical-align: top;\n",
       "    }\n",
       "\n",
       "    .dataframe thead th {\n",
       "        text-align: right;\n",
       "    }\n",
       "</style>\n",
       "<table border=\"1\" class=\"dataframe\">\n",
       "  <thead>\n",
       "    <tr style=\"text-align: right;\">\n",
       "      <th></th>\n",
       "      <th>freq</th>\n",
       "      <th>commodity</th>\n",
       "      <th>unit_measure</th>\n",
       "      <th>unit_mult</th>\n",
       "      <th>time_format</th>\n",
       "      <th>time_period</th>\n",
       "      <th>obs_value</th>\n",
       "      <th>ref_area</th>\n",
       "    </tr>\n",
       "  </thead>\n",
       "  <tbody>\n",
       "    <tr>\n",
       "      <th>0</th>\n",
       "      <td>A</td>\n",
       "      <td>PCOAL</td>\n",
       "      <td>IX</td>\n",
       "      <td>0</td>\n",
       "      <td>P1Y</td>\n",
       "      <td>2000</td>\n",
       "      <td>39.351023</td>\n",
       "      <td>All Countries, excluding the IO</td>\n",
       "    </tr>\n",
       "    <tr>\n",
       "      <th>1</th>\n",
       "      <td>A</td>\n",
       "      <td>PCOAL</td>\n",
       "      <td>IX</td>\n",
       "      <td>0</td>\n",
       "      <td>P1Y</td>\n",
       "      <td>2001</td>\n",
       "      <td>49.337859</td>\n",
       "      <td>All Countries, excluding the IO</td>\n",
       "    </tr>\n",
       "    <tr>\n",
       "      <th>2</th>\n",
       "      <td>A</td>\n",
       "      <td>PCOAL</td>\n",
       "      <td>IX</td>\n",
       "      <td>0</td>\n",
       "      <td>P1Y</td>\n",
       "      <td>2002</td>\n",
       "      <td>39.494909</td>\n",
       "      <td>All Countries, excluding the IO</td>\n",
       "    </tr>\n",
       "    <tr>\n",
       "      <th>3</th>\n",
       "      <td>A</td>\n",
       "      <td>PCOAL</td>\n",
       "      <td>IX</td>\n",
       "      <td>0</td>\n",
       "      <td>P1Y</td>\n",
       "      <td>2003</td>\n",
       "      <td>43.287888</td>\n",
       "      <td>All Countries, excluding the IO</td>\n",
       "    </tr>\n",
       "    <tr>\n",
       "      <th>4</th>\n",
       "      <td>A</td>\n",
       "      <td>PCOAL</td>\n",
       "      <td>IX</td>\n",
       "      <td>0</td>\n",
       "      <td>P1Y</td>\n",
       "      <td>2004</td>\n",
       "      <td>82.918586</td>\n",
       "      <td>All Countries, excluding the IO</td>\n",
       "    </tr>\n",
       "  </tbody>\n",
       "</table>\n",
       "</div>"
      ],
      "text/plain": [
       "  freq commodity unit_measure unit_mult time_format  time_period  obs_value  \\\n",
       "0    A     PCOAL           IX         0         P1Y         2000  39.351023   \n",
       "1    A     PCOAL           IX         0         P1Y         2001  49.337859   \n",
       "2    A     PCOAL           IX         0         P1Y         2002  39.494909   \n",
       "3    A     PCOAL           IX         0         P1Y         2003  43.287888   \n",
       "4    A     PCOAL           IX         0         P1Y         2004  82.918586   \n",
       "\n",
       "                          ref_area  \n",
       "0  All Countries, excluding the IO  \n",
       "1  All Countries, excluding the IO  \n",
       "2  All Countries, excluding the IO  \n",
       "3  All Countries, excluding the IO  \n",
       "4  All Countries, excluding the IO  "
      ]
     },
     "execution_count": 18,
     "metadata": {},
     "output_type": "execute_result"
    }
   ],
   "source": [
    "# Join df with params['ref_area'] to fetch code description\n",
    "df = df.merge(params['ref_area'], left_on='ref_area',right_on='input_code',how='left')\n",
    "\n",
    "# Drop redundant columns and rename description column\n",
    "df = df.drop(columns=['ref_area','input_code']).rename(columns={\"description\":\"ref_area\"})\n",
    "\n",
    "# View first few columns in the modified data frame\n",
    "df.head()"
   ]
  },
  {
   "attachments": {},
   "cell_type": "markdown",
   "metadata": {},
   "source": [
    "## Rate and Bandwidth Limit Management\n",
    "\n",
    "### Setting a Unique Application Name with `set_imf_app_name`\n",
    "\n",
    "`imfp.set_imf_app_name()` allows users to set a custom application name to be used when making API calls to the IMF API. The IMF API has an application-based rate limit of 50 requests per second, with the application identified by the \"user_agent\" variable in the request header.\n",
    "\n",
    "This could prove problematic if the `imfp` library became too popular and too many users tried to make simultaneous API requests using the default app name. By setting a custom application name, users can avoid hitting rate limits and being blocked by the API. `imfp.set_imf_app_name()` sets the application name by changing the `IMF_APP_NAME` variable in the environment. If this variable doesn't exist, `imfp.set_imf_app_name()` will create it.\n",
    "\n",
    "To set a custom application name, simply call the `imfp.set_imf_app_name()` function with your desired application name as an argument:"
   ]
  },
  {
   "cell_type": "code",
   "execution_count": null,
   "metadata": {},
   "outputs": [],
   "source": [
    "# Set custom app name as an environment variable\n",
    "imfp.set_imf_app_name(\"my_custom_app_name\")"
   ]
  },
  {
   "attachments": {},
   "cell_type": "markdown",
   "metadata": {},
   "source": [
    "\n",
    "\n",
    "The function will throw an error if the provided name is missing, NULL, NA, not a string, or longer than 255 characters. If the provided name is \"imfr\" (the default) or an empty string, the function will issue a warning recommending the use of a unique app name to avoid hitting rate limits."
   ]
  },
  {
   "attachments": {},
   "cell_type": "markdown",
   "metadata": {},
   "source": [
    "### Changing the enforced wait time between API calls with `set_imf_wait_time`\n",
    "\n",
    "By default, `imfp` enforces a mandatory 1.5-second wait time between API calls to prevent repeated or recursive calls from exceeding the API's bandwidth/rate limit. This wait time should be sufficient for most applications. However, if you are running parallel processes using `imfp` (e.g. during cross-platform testing), this wait time may be insufficient to prevent you from running up against the API's rate and bandwidth limits. You can change this wait time by calling the `set_imf_wait_time` function with a numeric value, in seconds. For instance, to enforce a five-second wait time between API calls, use `set_imf_wait_time(10)`.\n",
    "\n",
    "Also note that by default, `imfp` functions will retry any API call rejected for bandwidth or rate limit reasons. The number of times `imfp` will attempt the call is set by the `times` argument, with a default value of 3. (With this value, requests will be retried twice after an initial failure.) Note that `imfp` enforces an exponentially increasing wait time between function calls, with a base wait time of 5 seconds on the first retry, so it is not recommended to set a high value for `times`."
   ]
  },
  {
   "attachments": {},
   "cell_type": "markdown",
   "metadata": {},
   "source": [
    "## Planned features\n",
    "\n",
    "- If pyproject.toml version has been incremented, automatically deploy Github release from main with release notes auto-generated from `News` file or PR message\n",
    "- Implement automatic build/render of readthedocs documentation with Sphinx\n",
    "- Implement automatic build/release/publish of package updates\n",
    "- Move response mocking functionality from `_download_parse` to `_imf_get`\n",
    "- Investigate and implement different and more appropriate exception types, as we're currently handling too many different cases with `ValueError`\n",
    "- More fully investigate the types of metadata available through the API and the most appropriate way to return them when a user calls `include_metadata`\n",
    "- Implement optional response caching for `imf_databases` and `imf_parameters`\n",
    "- Simplify and modularize some of the code, particularly in `imf_dataset`\n",
    "\n",
    "## Contributing\n",
    "\n",
    "I would love to have your help in improving `imfp`. If you encounter a bug while using the library, please open an issue. Alternatively, fix the bug and open a pull request to the `dev` branch. Thanks in advance for your help!\n",
    "\n",
    "Note to maintainers: To deploy a new version of the package, increment the version number with `poetry version patch` (or `minor`/`major` for larger updates), update the lock file with the latest dependencies with `poetry update`, run the tests with `pytest tests`, make any necessary documentation changes in `NEWS` and `README.ipynb`, and push to dev. Github Actions will automatically format the code with black, render the README, and run the unit tests. If the workflow completes successfully, open a PR to main. After merging, the workflow will test again as one last sanity check and then automatically deploy the new version to PyPi. Currently, new Github releases must be created manually, but this will be automated in the future."
   ]
  }
 ],
 "metadata": {
  "kernelspec": {
   "display_name": "base",
   "language": "python",
   "name": "python3"
  },
  "language_info": {
   "codemirror_mode": {
    "name": "ipython",
    "version": 3
   },
   "file_extension": ".py",
   "mimetype": "text/x-python",
   "name": "python",
   "nbconvert_exporter": "python",
   "pygments_lexer": "ipython3",
   "version": "undefined.undefined.undefined"
  },
  "orig_nbformat": 4
 },
 "nbformat": 4,
 "nbformat_minor": 2
}
